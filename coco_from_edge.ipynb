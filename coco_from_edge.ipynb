{
 "cells": [
  {
   "cell_type": "code",
   "execution_count": 1,
   "metadata": {},
   "outputs": [],
   "source": [
    "import numpy as np\n",
    "from pycococreatortools import pycococreatortools\n",
    "import os\n",
    "import glob\n",
    "import cv2\n",
    "from tqdm import tqdm\n",
    "import json\n",
    "from PIL import Image\n"
   ]
  },
  {
   "cell_type": "code",
   "execution_count": 2,
   "metadata": {},
   "outputs": [],
   "source": [
    "home_path=os.path.expanduser('~')\n",
    "dir0_with_images_and_ann = os.path.join(home_path, 'Pobrane/images/Weapon-images')\n",
    "dir1_with_images_and_ann = os.path.join(home_path, 'Pobrane/images/Weapon-images-outdoor')"
   ]
  },
  {
   "cell_type": "code",
   "execution_count": 3,
   "metadata": {},
   "outputs": [],
   "source": [
    "def get_segmentation(in_dict):\n",
    "    segmentation = []\n",
    "    if not len(in_dict['contours']):\n",
    "        return segmentation\n",
    "    in_dict['contours'] = sorted(in_dict['contours'], key=len, reverse=True)\n",
    "    for contour_pack in [in_dict['contours'][0]]:\n",
    "        for contour in contour_pack:\n",
    "            segmentation.append(contour['x'])\n",
    "            segmentation.append(contour['y'])\n",
    "\n",
    "    \n",
    "    return [segmentation]\n",
    "\n",
    "def get_bbox(in_dict):\n",
    "    left = in_dict['bbox']['left']\n",
    "    top = in_dict['bbox']['top']\n",
    "    right = in_dict['bbox']['right']\n",
    "    bottom = in_dict['bbox']['bottom']\n",
    "    width = right-left\n",
    "    height = bottom-top\n",
    "    return [left, top, width, height]"
   ]
  },
  {
   "cell_type": "code",
   "execution_count": 4,
   "metadata": {},
   "outputs": [
    {
     "name": "stderr",
     "output_type": "stream",
     "text": [
      "  0%|          | 1/25454 [00:00<2:42:47,  2.61it/s]"
     ]
    },
    {
     "name": "stdout",
     "output_type": "stream",
     "text": [
      "mouse\n",
      "book\n",
      "laptop\n",
      "weapon\n",
      "People with weapons\n",
      "table\n"
     ]
    },
    {
     "name": "stderr",
     "output_type": "stream",
     "text": [
      "\r",
      "  0%|          | 2/25454 [00:00<2:40:54,  2.64it/s]"
     ]
    },
    {
     "name": "stdout",
     "output_type": "stream",
     "text": [
      "magazine\n",
      "WineBottle\n",
      "cell phone\n"
     ]
    },
    {
     "name": "stderr",
     "output_type": "stream",
     "text": [
      "\r",
      "  0%|          | 3/25454 [00:01<2:42:52,  2.60it/s]"
     ]
    },
    {
     "name": "stdout",
     "output_type": "stream",
     "text": [
      "chair\n"
     ]
    },
    {
     "name": "stderr",
     "output_type": "stream",
     "text": [
      "\r",
      "  0%|          | 4/25454 [00:01<2:45:00,  2.57it/s]"
     ]
    },
    {
     "name": "stdout",
     "output_type": "stream",
     "text": [
      "Sofa\n",
      "vase\n",
      "speaker\n",
      "sideboard\n",
      "flowers\n"
     ]
    },
    {
     "name": "stderr",
     "output_type": "stream",
     "text": [
      "\r",
      "  0%|          | 5/25454 [00:01<2:43:29,  2.59it/s]"
     ]
    },
    {
     "name": "stdout",
     "output_type": "stream",
     "text": [
      "person\n"
     ]
    },
    {
     "name": "stderr",
     "output_type": "stream",
     "text": [
      "  0%|          | 10/25454 [00:03<2:40:40,  2.64it/s]"
     ]
    },
    {
     "name": "stdout",
     "output_type": "stream",
     "text": [
      "KitchenFurniture\n",
      "Fridge\n",
      "Bread\n"
     ]
    },
    {
     "name": "stderr",
     "output_type": "stream",
     "text": [
      "\r",
      "  0%|          | 11/25454 [00:04<2:40:20,  2.64it/s]"
     ]
    },
    {
     "name": "stdout",
     "output_type": "stream",
     "text": [
      "plant\n"
     ]
    },
    {
     "name": "stderr",
     "output_type": "stream",
     "text": [
      "  0%|          | 14/25454 [00:05<2:36:50,  2.70it/s]"
     ]
    },
    {
     "name": "stdout",
     "output_type": "stream",
     "text": [
      "carpet\n"
     ]
    },
    {
     "name": "stderr",
     "output_type": "stream",
     "text": [
      "  0%|          | 16/25454 [00:05<2:34:47,  2.74it/s]"
     ]
    },
    {
     "name": "stdout",
     "output_type": "stream",
     "text": [
      "toothbrush\n",
      "champion\n"
     ]
    },
    {
     "name": "stderr",
     "output_type": "stream",
     "text": [
      "  0%|          | 26/25454 [00:09<2:37:24,  2.69it/s]"
     ]
    },
    {
     "name": "stdout",
     "output_type": "stream",
     "text": [
      "couch\n",
      "upperVases\n",
      "hair drier\n"
     ]
    },
    {
     "name": "stderr",
     "output_type": "stream",
     "text": [
      "  0%|          | 30/25454 [00:11<2:42:42,  2.60it/s]"
     ]
    },
    {
     "name": "stdout",
     "output_type": "stream",
     "text": [
      "PictureFrame\n",
      "boots\n"
     ]
    },
    {
     "name": "stderr",
     "output_type": "stream",
     "text": [
      "\r",
      "  0%|          | 31/25454 [00:11<2:40:05,  2.65it/s]"
     ]
    },
    {
     "name": "stdout",
     "output_type": "stream",
     "text": [
      "bench\n"
     ]
    },
    {
     "name": "stderr",
     "output_type": "stream",
     "text": [
      "  0%|          | 31/25454 [00:11<2:42:55,  2.60it/s]\n",
      "  0%|          | 0/9998 [00:00<?, ?it/s]\n"
     ]
    }
   ],
   "source": [
    "weapon_id = 1\n",
    "cats_ids = {\"person\":2,\"weapon\":weapon_id, 'People with weapons':2, 'Glock_17':weapon_id ,'45_ACP_Smith_And_Wesson ' :weapon_id, 'mp5k' : weapon_id, 'LeftHandedWeapons':weapon_id}\n",
    "image_id = 0\n",
    "ann_id = 0\n",
    "coco_output = {'images': [], \"annotations\": [], 'type': \"instances\"}\n",
    "coco_output['categories'] = [{\"supercategory\": \"person\",\"id\": cats_ids['person'],\"name\": \"person\"},\n",
    "    {\"supercategory\": \"weapon\",\"id\": cats_ids['weapon'],\"name\": \"weapon\"}]\n",
    "tags = set()\n",
    "for src_dir in [dir0_with_images_and_ann, dir1_with_images_and_ann]:\n",
    "    images_pathes = glob.glob(src_dir+'/*.png')\n",
    "    for image_path in tqdm(images_pathes):\n",
    "        image_id += 1\n",
    "        image = Image.open(image_path)\n",
    "        parent_dir, image_name  = image_path.split('/')[-2:]\n",
    "        image_filename_with_parentdir = os.path.join(parent_dir, image_name)\n",
    "        image_info = pycococreatortools.create_image_info(\n",
    "        image_id, image_filename_with_parentdir, image.size)\n",
    "        \n",
    "        cutted_image_path = '_'.join(image_path.split('_')[:-1])\n",
    "        annotation_list = glob.glob(cutted_image_path+'_*.json')\n",
    "        prev_ann_id = ann_id\n",
    "        for annot_path in annotation_list:\n",
    "            with open(annot_path, 'r') as f:\n",
    "                desc = json.load(f)\n",
    "                if desc['tagName'] not in tags:\n",
    "                    print(desc['tagName'])\n",
    "                    tags.add(desc['tagName'])\n",
    "                \n",
    "                if desc['tagName'] not in cats_ids:\n",
    "                    continue\n",
    "                \n",
    "                annotation_info = {}\n",
    "                annotation_info['segmentation'] = get_segmentation(desc)\n",
    "                if not len(annotation_info['segmentation']):\n",
    "                    continue\n",
    "                ann_id += 1\n",
    "                annotation_info['area'] = desc['area']\n",
    "                annotation_info['iscrowd'] = 0\n",
    "                annotation_info['image_id'] = image_id\n",
    "                annotation_info['bbox'] = get_bbox(desc)\n",
    "                annotation_info['category_id'] = cats_ids[desc['tagName']]\n",
    "                annotation_info['id'] =  ann_id\n",
    "                coco_output['annotations'].append(annotation_info)\n",
    "        if prev_ann_id != ann_id:\n",
    "            coco_output[\"images\"].append(image_info)"
   ]
  },
  {
   "cell_type": "code",
   "execution_count": 5,
   "metadata": {},
   "outputs": [],
   "source": [
    "annotation_file='/home/m/Pobrane/trainval.json'\n",
    "os.makedirs(os.path.split(annotation_file)[0], exist_ok=True)\n",
    "with open(annotation_file, 'w') as f:\n",
    "    json.dump(coco_output, f)"
   ]
  },
  {
   "cell_type": "code",
   "execution_count": null,
   "metadata": {},
   "outputs": [],
   "source": []
  },
  {
   "cell_type": "code",
   "execution_count": null,
   "metadata": {},
   "outputs": [],
   "source": []
  }
 ],
 "metadata": {
  "kernelspec": {
   "display_name": "Python 3",
   "language": "python",
   "name": "python3"
  },
  "language_info": {
   "codemirror_mode": {
    "name": "ipython",
    "version": 3
   },
   "file_extension": ".py",
   "mimetype": "text/x-python",
   "name": "python",
   "nbconvert_exporter": "python",
   "pygments_lexer": "ipython3",
   "version": "3.8.3"
  }
 },
 "nbformat": 4,
 "nbformat_minor": 4
}
