{
 "cells": [
  {
   "cell_type": "code",
   "execution_count": 1,
   "metadata": {},
   "outputs": [],
   "source": [
    "import os\n",
    "import cv2\n",
    "import json\n",
    "import matplotlib.pyplot as plt\n",
    "import numpy as np\n",
    "from pycococreatortools import pycococreatortools\n",
    "import pprint\n",
    "\n",
    "home_path=os.path.expanduser('~')\n",
    "mask_dir=os.path.join(home_path, 'weapons/googleguns/annotations/consolidated-annotation/output')\n",
    "json_ann_file=os.path.join(home_path, '/home/m/weapons/googleguns/intermediate/1/output.manifest')"
   ]
  },
  {
   "cell_type": "code",
   "execution_count": 2,
   "metadata": {},
   "outputs": [],
   "source": [
    "def get_binary_mask(img, color):\n",
    "    lower_color = np.array(color)-3\n",
    "    upper_color = np.array(color)\n",
    "    binary_mask = cv2.inRange(img, lower_color, upper_color)\n",
    "    return binary_mask"
   ]
  },
  {
   "cell_type": "code",
   "execution_count": 3,
   "metadata": {},
   "outputs": [],
   "source": [
    "def get_contours(img, color):\n",
    "    binary_mask = get_binary_mask(img, color)\n",
    "    contours, hierarchy = cv2.findContours(binary_mask, cv2.RETR_EXTERNAL, cv2.CHAIN_APPROX_SIMPLE)\n",
    "    \n",
    "    if contours:\n",
    "        img_con = cv2.drawContours(img, contours, -1, (0, 255, 0), 3)\n",
    "        cv2.imshow(\"test\", img_con)\n",
    "        cv2.waitKey(0)\n",
    "        cv2.destroyAllWindows()\n",
    "    \n",
    "    return contours"
   ]
  },
  {
   "cell_type": "code",
   "execution_count": 4,
   "metadata": {},
   "outputs": [],
   "source": [
    "def get_img(s3_path):\n",
    "    splitted = s3_path.split('/')\n",
    "    img_local_path = '/'.join(splitted[2:])\n",
    "    img_full_path = os.path.join(home_path, img_local_path)\n",
    "    img = cv2.imread(img_full_path)\n",
    "    return img\n",
    "    "
   ]
  },
  {
   "cell_type": "code",
   "execution_count": 5,
   "metadata": {},
   "outputs": [],
   "source": [
    "def get_cls_annots(cats_ids):\n",
    "    cls = []\n",
    "    cls.append({\"supercategory\": \"gun\",\"name\": \"rifle\", \"id\": cats_ids['rifle']})\n",
    "    cls.append({\"supercategory\": \"gun\",\"name\": \"pistol\", \"id\": cats_ids['pistol']})\n",
    "    cls.append({\"supercategory\": \"gun\",\"name\": \"person\", \"id\": cats_ids['person']})\n",
    "    return cls \n",
    "\n",
    "def get_image_annot(im_id, width, height, filename):\n",
    "    image_annotation = {}\n",
    "    image_annotation['id'] = im_id\n",
    "    image_annotation['width'] = width\n",
    "    image_annotation['height'] = height\n",
    "    image_annotation['license'] = 0\n",
    "    image_annotation[\"file_name\"] = filename\n",
    "    return image_annotation\n",
    "\n",
    "def get_annot(segmentation, cat_id, im_id, ann_id_begin):\n",
    "    annotations = []\n",
    "    for i, segment in enumerate(segmentation):\n",
    "        annotation = {}\n",
    "        x, y, width, height = get_bnd_box(segment)\n",
    "        annotation['segmentation'] = segment\n",
    "        annotation['area'] = width*height\n",
    "        annotation['is_crowd'] = 0\n",
    "        annotation['image_id'] = im_id\n",
    "        annotation['bbox'] = [x,y, width, height]\n",
    "        annotation['category_id'] = cat_id\n",
    "        annotation['id'] = ann_id_begin + i\n",
    "        annotations.append(annotation)\n",
    "    return annotations"
   ]
  },
  {
   "cell_type": "code",
   "execution_count": 6,
   "metadata": {},
   "outputs": [],
   "source": [
    "def get_min(actual, prev_min):\n",
    "    return actual if actual < prev_min else prev_min\n",
    "\n",
    "def get_max(actual, prev_max):\n",
    "    return actual if actual > prev_max else prev_max\n",
    "\n",
    "def get_bnd_box(segment):\n",
    "    min_x, min_y, max_x, max_y = 10000,10000,0,0\n",
    "    for i in range(0, len(segment),2):\n",
    "        x, y = segment[i:i+2]\n",
    "        \n",
    "        min_x, min_y = get_min(x, min_x), get_min(y, min_y)\n",
    "        max_x, max_y = get_max(x, max_x), get_max(y, max_y)\n",
    "    \n",
    "    width, height = max_x - min_x, max_y - min_y\n",
    "    return min_x, min_y, width, height\n",
    "    "
   ]
  },
  {
   "cell_type": "code",
   "execution_count": 7,
   "metadata": {},
   "outputs": [],
   "source": [
    "def get_cls_ids(in_dict):\n",
    "    cls_ids = {}\n",
    "    if \"googleguns-ref-metadata\" not in in_dict:\n",
    "        return None\n",
    "    in_dict_roi = in_dict[\"googleguns-ref-metadata\"][\"internal-color-map\"]\n",
    "    for key in in_dict_roi.keys():\n",
    "        cls_ids[in_dict_roi[key][\"class-name\"]] = key\n",
    "    \n",
    "    return cls_ids"
   ]
  },
  {
   "cell_type": "code",
   "execution_count": 8,
   "metadata": {},
   "outputs": [],
   "source": [
    "annotations = []\n",
    "images = []\n",
    "with open(json_ann_file, 'r') as f:\n",
    "    lines = f.readlines() \n",
    "    for x, line in enumerate(lines):\n",
    "        json_data = json.loads(line)\n",
    "        im_id = x\n",
    "        cls_ids = get_cls_ids(json_data) if get_cls_ids(json_data) else cls_ids\n",
    "        if 'googleguns-ref' not in json_data:\n",
    "            continue\n",
    "        s3_ann_img_path = json_data['googleguns-ref']\n",
    "        s3_src_img_path_tail = os.path.split(json_data['source-ref'])[1]\n",
    "        for i in range(1,4):\n",
    "            info = json_data['googleguns-ref-metadata']['internal-color-map'][str(i)]\n",
    "            color_info = info['hex-color'][1:]\n",
    "            int_color_info = int(color_info, 16) \n",
    "            r_col =  (int_color_info & 0xff0000) >> 16\n",
    "            g_col = (int_color_info & 0xff00) >> 8\n",
    "            b_col = int_color_info & 0xff\n",
    "            color = [b_col, g_col, r_col]\n",
    "            ann_img = get_img(s3_ann_img_path)\n",
    "            b = get_binary_mask(ann_img, color)\n",
    "            annotation_info = pycococreatortools.create_annotation_info(\n",
    "                    1, 1, {'is_crowd':0, \"id\":i},  b,\n",
    "                    ann_img.shape[:2], tolerance=2)\n",
    "            if annotation_info:\n",
    "                anns = get_annot(annotation_info['segmentation'],cat_id=i, im_id=im_id, ann_id_begin= im_id*10)\n",
    "        imgs_anns = get_image_annot(im_id, ann_img.shape[0], ann_img.shape[1], s3_src_img_path_tail)  \n",
    "        annotations.append(anns) \n",
    "        images.append(imgs_anns)\n",
    "categories  = get_cls_annots(cls_ids)"
   ]
  },
  {
   "cell_type": "code",
   "execution_count": 9,
   "metadata": {},
   "outputs": [],
   "source": [
    "end_json = {}\n",
    "end_json['type'] = \"instances\"\n",
    "end_json['images'] = images\n",
    "end_json['categories'] = categories\n",
    "end_json[\"annotations\"] = annotations"
   ]
  },
  {
   "cell_type": "code",
   "execution_count": 10,
   "metadata": {},
   "outputs": [],
   "source": [
    "annotation_file='/home/m/glock/annotations_glock/test.json'\n",
    "os.makedirs(os.path.split(annotation_file)[0], exist_ok=True)\n",
    "with open(annotation_file, 'w') as f:\n",
    "    json.dump(end_json, f)"
   ]
  },
  {
   "cell_type": "code",
   "execution_count": null,
   "metadata": {},
   "outputs": [],
   "source": []
  }
 ],
 "metadata": {
  "kernelspec": {
   "display_name": "Python 3",
   "language": "python",
   "name": "python3"
  },
  "language_info": {
   "codemirror_mode": {
    "name": "ipython",
    "version": 3
   },
   "file_extension": ".py",
   "mimetype": "text/x-python",
   "name": "python",
   "nbconvert_exporter": "python",
   "pygments_lexer": "ipython3",
   "version": "3.8.3"
  }
 },
 "nbformat": 4,
 "nbformat_minor": 2
}
