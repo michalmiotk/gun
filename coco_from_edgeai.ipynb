{
 "cells": [
  {
   "cell_type": "code",
   "execution_count": 1,
   "metadata": {},
   "outputs": [],
   "source": [
    "import numpy as np\n",
    "from pycococreatortools import pycococreatortools\n",
    "import os\n",
    "import glob\n",
    "import cv2\n",
    "from tqdm import tqdm\n",
    "import json"
   ]
  },
  {
   "cell_type": "code",
   "execution_count": 2,
   "metadata": {},
   "outputs": [],
   "source": [
    "home_path=os.path.expanduser('~')\n",
    "dir0_with_images_and_ann = os.path.join(home_path, 'Pobrane/images/Weapon-images')\n",
    "dir1_with_images_and_ann = os.path.join(home_path, 'Pobrane/images/Weapon-images-outdoor')"
   ]
  },
  {
   "cell_type": "code",
   "execution_count": 3,
   "metadata": {},
   "outputs": [],
   "source": [
    "def get_segmentation(in_dict):\n",
    "    segmentation = []\n",
    "    for contours_pack in in_dict['contours']:\n",
    "        for contour in contours_pack:\n",
    "            segmentation.append(contour['x'])\n",
    "            segmentation.append(contour['y'])\n",
    "    return segmentation\n",
    "\n",
    "def get_bbox(in_dict):\n",
    "    left = in_dict['bbox']['left']\n",
    "    top = in_dict['bbox']['top']\n",
    "    right = in_dict['bbox']['right']\n",
    "    bottom = in_dict['bbox']['bottom']\n",
    "    width = right-left\n",
    "    height = bottom-top\n",
    "    return [left, top, width, height]"
   ]
  },
  {
   "cell_type": "code",
   "execution_count": 4,
   "metadata": {},
   "outputs": [
    {
     "name": "stderr",
     "output_type": "stream",
     "text": [
      "100%|██████████| 25454/25454 [00:00<00:00, 63057.97it/s]\n",
      "100%|██████████| 9998/9998 [00:00<00:00, 2827118.68it/s]"
     ]
    },
    {
     "name": "stdout",
     "output_type": "stream",
     "text": [
      "mouse\n",
      "mouse\n",
      "book\n",
      "laptop\n",
      "table\n",
      "book\n",
      "table\n",
      "table\n"
     ]
    },
    {
     "name": "stderr",
     "output_type": "stream",
     "text": [
      "\n"
     ]
    }
   ],
   "source": [
    "cats_ids = {\"person\":0,\"weapon\":1, 'People with weapons':0}\n",
    "image_id = 0\n",
    "coco_output = {'images': [], \"annotations\": [], 'type': \"instances\"}\n",
    "coco_output['categories'] = [{\"supercategory\": \"person\",\"id\": cats_ids['person'],\"name\": \"person\"},\n",
    "    {\"supercategory\": \"weapon\",\"id\": cats_ids['weapon'],\"name\": \"weapon\"}]\n",
    "for src_dir in [dir0_with_images_and_ann, dir1_with_images_and_ann]:\n",
    "    images_pathes = glob.glob(src_dir+'/*.png')\n",
    "    for image_path in tqdm(images_pathes):\n",
    "        image_id += 30\n",
    "        if image_id !=30:\n",
    "            continue\n",
    "        image = cv2.imread(image_path)\n",
    "        parent_dir, image_name  = image_path.split('/')[-2:]\n",
    "        image_filename_with_parentdir = os.path.join(parent_dir, image_name)\n",
    "        image_info = pycococreatortools.create_image_info(\n",
    "        image_id, image_filename_with_parentdir, image.shape)\n",
    "        coco_output[\"images\"].append(image_info)\n",
    "        cutted_image_path = '_'.join(image_path.split('_')[:-1])\n",
    "        annotation_list = glob.glob(cutted_image_path+'*.json')\n",
    "        \n",
    "        for i, annot_path in enumerate(annotation_list):\n",
    "            with open(annot_path, 'r') as f:\n",
    "                desc = json.load(f)\n",
    "                if desc['tagName'] not in cats_ids:\n",
    "                    print(desc['tagName'])\n",
    "                    continue\n",
    "                annotation_info = {}\n",
    "                annotation_info['segmentation'] = get_segmentation(desc)\n",
    "                annotation_info['area'] = desc['area']\n",
    "                annotation_info['iscrowd'] = 0\n",
    "                annotation_info['image_id'] = image_id\n",
    "                annotation_info['bbox'] = get_bbox(desc)\n",
    "                annotation_info['category_id'] = cats_ids[desc['tagName']]\n",
    "                annotation_info['id'] =  image_id + i\n",
    "                coco_output['annotations'].append(annotation_info)"
   ]
  },
  {
   "cell_type": "code",
   "execution_count": 5,
   "metadata": {},
   "outputs": [],
   "source": [
    "annotation_file='/home/m/Pobrane/trainval.json'\n",
    "os.makedirs(os.path.split(annotation_file)[0], exist_ok=True)\n",
    "with open(annotation_file, 'w') as f:\n",
    "    json.dump(coco_output, f)"
   ]
  },
  {
   "cell_type": "code",
   "execution_count": null,
   "metadata": {},
   "outputs": [],
   "source": []
  }
 ],
 "metadata": {
  "kernelspec": {
   "display_name": "Python 3",
   "language": "python",
   "name": "python3"
  },
  "language_info": {
   "codemirror_mode": {
    "name": "ipython",
    "version": 3
   },
   "file_extension": ".py",
   "mimetype": "text/x-python",
   "name": "python",
   "nbconvert_exporter": "python",
   "pygments_lexer": "ipython3",
   "version": "3.8.3"
  }
 },
 "nbformat": 4,
 "nbformat_minor": 4
}
