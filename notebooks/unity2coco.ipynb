{
 "cells": [
  {
   "cell_type": "code",
   "execution_count": 1,
   "metadata": {},
   "outputs": [],
   "source": [
    "import json\n",
    "import os\n",
    "from pycococreatortools import pycococreatortools\n",
    "import numpy as np\n",
    "import cv2\n",
    "import matplotlib.pyplot as plt\n",
    "from tqdm import tqdm\n",
    "from json import JSONDecodeError\n",
    "image_witdh = None\n",
    "image_height = None\n",
    "filename_prefix=\"captures_\"\n",
    "glock_id=2\n",
    "perception_version = '0.3.0'\n",
    "root_path='/glock/15k_lowres'\n",
    "files_ = os.listdir(root_path)\n",
    "files_path=''\n",
    "for f in files_:\n",
    "    if f.startswith(\"Dataset\"):\n",
    "        files_path = os.path.join(root_path,f)\n",
    "#files_path=os.path.join(root_path, 'Dataset2fd2fa2d-c266-4a43-8183-7168949b9979')\n",
    "files_all = os.listdir(files_path)\n",
    "files_captures = []\n",
    "for filename in files_all:\n",
    "    if filename.startswith(filename_prefix):\n",
    "        files_captures.append(os.path.join(files_path,filename))"
   ]
  },
  {
   "cell_type": "code",
   "execution_count": 2,
   "metadata": {},
   "outputs": [],
   "source": [
    "def get_image_width_height(filename, image_height, image_width):\n",
    "    if image_width is None or image_height is None:\n",
    "        path = os.path.join(root_path, filename)\n",
    "        img = cv2.imread(path)\n",
    "        image_height,image_width, _ = img.shape\n",
    "        print(\"shape\", image_height, image_width)\n",
    "    return image_height ,image_width "
   ]
  },
  {
   "cell_type": "code",
   "execution_count": 3,
   "metadata": {},
   "outputs": [],
   "source": [
    "def get_color_info():\n",
    "    label_id = {}\n",
    "    label_color = {}\n",
    "    out_color = {}\n",
    "    rgb_vals = {}\n",
    "    with open(os.path.join(files_path, 'annotation_definitions.json'),'r') as f:\n",
    "        json_dict = json.load(f)\n",
    "        for ann_def in json_dict['annotation_definitions']:\n",
    "            for sp in ann_def[\"spec\"]:\n",
    "                if 'label_id' in sp and 'label_name' in sp:\n",
    "                    label_id[sp['label_id']] = sp['label_name']\n",
    "                if 'label_name' in sp and \"pixel_value\" in sp:\n",
    "                    label_color[sp['label_name']] = sp['pixel_value']\n",
    "        for key in label_id:\n",
    "            out_color[key] = label_color[label_id[key]]\n",
    "        #out color is in format {1: {'r': 0.0, 'g': 1.0, 'b': 0.0, 'a': 1.0}\n",
    "        for key in out_color:\n",
    "            rgb_vals[key] = np.array([int(out_color[key]['r']*255), int(out_color[key]['g']*255), int(out_color[key]['b']*255)]) \n",
    "    return rgb_vals"
   ]
  },
  {
   "cell_type": "code",
   "execution_count": 4,
   "metadata": {},
   "outputs": [
    {
     "name": "stdout",
     "output_type": "stream",
     "text": [
      "{1: array([  0, 255,   0]), 2: array([255, 255, 255]), 3: array([127, 127, 127]), 4: array([103, 255,  81]), 5: array([255, 237,  52]), 6: array([255, 166,  16]), 7: array([255, 144,  10]), 8: array([ 16, 255,  70]), 9: array([ 47, 255,  74]), 10: array([  0,   0, 255])}\n"
     ]
    }
   ],
   "source": [
    "print(get_color_info())"
   ]
  },
  {
   "cell_type": "code",
   "execution_count": 5,
   "metadata": {},
   "outputs": [],
   "source": [
    "def annotation_from_mask(semantic_filename,x,y,width,height,image_id,annotation_id, label_id):\n",
    "    x,y,width,height = [int(val) for val in [x,y,width,height]]\n",
    "    annotation_filename=os.path.join(root_path, semantic_filename)\n",
    "    image=cv2.imread(annotation_filename)\n",
    "    if image is None:\n",
    "        return None\n",
    "    image = cv2.cvtColor(image, cv2.COLOR_BGR2RGB)\n",
    "    annotations = []\n",
    "    color_info = get_color_info()\n",
    "    \n",
    "    full_mask = cv2.inRange(image, color_info[label_id]-2, color_info[label_id]+2)\n",
    "    crop_mask = np.zeros_like(full_mask)\n",
    "    crop_mask[y:y+height, x:x+width] = full_mask[y:y+height, x:x+width]\n",
    "    annotation_info = pycococreatortools.create_annotation_info(\n",
    "        annotation_id=annotation_id, image_id=image_id, category_info={'is_crowd':0, \"id\":label_id}, binary_mask=crop_mask,\n",
    "        image_size=(image_witdh,image_height), tolerance=2)\n",
    "\n",
    "    return annotation_info"
   ]
  },
  {
   "cell_type": "code",
   "execution_count": 6,
   "metadata": {},
   "outputs": [],
   "source": [
    "end_json = {}\n",
    "end_json['type'] = \"instances\"\n",
    "end_json['categories'] = [{\"supercategory\": \"weapon\",\"id\": 1,\"name\": \"AK-74m_synth\"},\n",
    "                            {\"supercategory\": \"weapon\",\"id\": 2,\"name\": \"colt_synth\"},\n",
    "                            {\"supercategory\": \"weapon\",\"id\": 3,\"name\": \"danwesson_synth\"},\n",
    "                            {\"supercategory\": \"weapon\",\"id\": 4,\"name\": \"enfield_synth\"},\n",
    "                            {\"supercategory\": \"weapon\",\"id\": 5,\"name\": \"glock_synth\"},\n",
    "                            {\"supercategory\": \"weapon\",\"id\": 6,\"name\": \"m4_synth\"},\n",
    "                            {\"supercategory\": \"weapon\",\"id\": 7,\"name\": \"mp5_synth\"},\n",
    "                            {\"supercategory\": \"weapon\",\"id\": 8,\"name\": \"scar_synth\"},\n",
    "                            {\"supercategory\": \"weapon\",\"id\": 9,\"name\": \"thompson_synth\"},\n",
    "                            {\"supercategory\": \"weapon\",\"id\": 10,\"name\": \"ab10_synth\"}]\n",
    "end_json['images'], end_json[\"annotations\"] = [],[]"
   ]
  },
  {
   "cell_type": "code",
   "execution_count": null,
   "metadata": {},
   "outputs": [
    {
     "name": "stderr",
     "output_type": "stream",
     "text": [
      "\r",
      "  0%|          | 0/99 [00:00<?, ?it/s]"
     ]
    },
    {
     "name": "stdout",
     "output_type": "stream",
     "text": [
      "shape 370 839\n"
     ]
    },
    {
     "name": "stderr",
     "output_type": "stream",
     "text": [
      " 38%|███▊      | 38/99 [03:14<05:17,  5.20s/it]"
     ]
    }
   ],
   "source": [
    "image_id =0\n",
    "annotation_id =0\n",
    "for filename in tqdm(files_captures):\n",
    "    f = open(filename, \"r\")\n",
    "    try:\n",
    "        json_dict = json.load(f)\n",
    "    except JSONDecodeError as e:\n",
    "        print(e)\n",
    "        continue\n",
    "    for capture in json_dict['captures']:\n",
    "        image_height, image_witdh = get_image_width_height(capture['filename'], image_height,image_witdh)\n",
    "        image_id+=1\n",
    "        image_annotation = {}\n",
    "        image_annotation['file_name'] = capture['filename']\n",
    "        image_annotation['id'] = image_id\n",
    "        image_annotation['width'] = image_witdh\n",
    "        image_annotation['height'] = image_height\n",
    "        image_annotation['license'] = 0\n",
    "        end_json['images'].append(image_annotation)\n",
    "        semantic_filename = '' \n",
    "        for annotation in capture['annotations']:\n",
    "            if 'filename' in annotation.keys():\n",
    "                semantic_filename = annotation['filename']\n",
    "                \n",
    "        for annotation in capture['annotations']:\n",
    "            if 'values' in annotation.keys():\n",
    "                for some_val in annotation['values']:\n",
    "                    annotation_id+=1\n",
    "                    x,y,width, height=some_val['x'], some_val['y'],some_val['width'],some_val['height']   \n",
    "                    new_annotation = annotation_from_mask(semantic_filename, x,y,width, height,image_id, annotation_id, some_val['label_id'])\n",
    "                    if new_annotation:\n",
    "                        end_json[\"annotations\"].append(new_annotation)\n",
    "        "
   ]
  },
  {
   "cell_type": "code",
   "execution_count": null,
   "metadata": {},
   "outputs": [],
   "source": [
    "annotation_file=os.path.join(root_path,'trainval.json')\n",
    "with open(annotation_file, 'w') as f:\n",
    "    json.dump(end_json, f)"
   ]
  },
  {
   "cell_type": "code",
   "execution_count": null,
   "metadata": {},
   "outputs": [],
   "source": [
    "from pycocotools.coco import COCO\n",
    "import pylab\n",
    "import skimage.io as io\n",
    "coco = COCO(annotation_file)"
   ]
  },
  {
   "cell_type": "code",
   "execution_count": null,
   "metadata": {},
   "outputs": [],
   "source": [
    "categories = coco.loadCats(coco.getCatIds())\n",
    "category_names = [category['name'] for category in categories]\n",
    "print('Custom COCO categories: \\n{}\\n'.format(' '.join(category_names)))\n",
    "\n",
    "category_names = set([category['supercategory'] for category in categories])\n",
    "print('Custom COCO supercategories: \\n{}'.format(' '.join(category_names)))\n",
    "\n"
   ]
  },
  {
   "cell_type": "code",
   "execution_count": null,
   "metadata": {},
   "outputs": [],
   "source": [
    "category_ids = coco.getCatIds()\n",
    "#print(category_ids)\n",
    "image_ids = coco.getImgIds()\n",
    "#print(image_ids)\n",
    "image_data = coco.loadImgs(image_ids[np.random.randint(0, len(image_ids))])[0]\n",
    "image = io.imread(os.path.join(root_path,image_data['file_name']))\n",
    "plt.imshow(image); plt.axis('off')\n",
    "pylab.rcParams['figure.figsize'] = (8.0, 10.0)\n",
    "annotation_ids = coco.getAnnIds(imgIds=image_data['id'], catIds=category_ids, iscrowd=None)\n",
    "annotations = coco.loadAnns(annotation_ids)\n",
    "coco.showAnns(annotations)"
   ]
  },
  {
   "cell_type": "code",
   "execution_count": null,
   "metadata": {},
   "outputs": [],
   "source": []
  },
  {
   "cell_type": "code",
   "execution_count": null,
   "metadata": {},
   "outputs": [],
   "source": []
  }
 ],
 "metadata": {
  "kernelspec": {
   "display_name": "Python 3",
   "language": "python",
   "name": "python3"
  },
  "language_info": {
   "codemirror_mode": {
    "name": "ipython",
    "version": 3
   },
   "file_extension": ".py",
   "mimetype": "text/x-python",
   "name": "python",
   "nbconvert_exporter": "python",
   "pygments_lexer": "ipython3",
   "version": "3.8.5"
  }
 },
 "nbformat": 4,
 "nbformat_minor": 4
}
