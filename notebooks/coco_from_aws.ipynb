{
 "cells": [
  {
   "cell_type": "code",
   "execution_count": 1,
   "metadata": {},
   "outputs": [],
   "source": [
    "import os\n",
    "import cv2\n",
    "import json\n",
    "import matplotlib.pyplot as plt\n",
    "import numpy as np\n",
    "from pycococreatortools import pycococreatortools\n",
    "import pprint\n",
    "\n",
    "home_path=os.path.expanduser('~')\n",
    "mask_dir=os.path.join(home_path, 'Pobrane/maski')\n",
    "json_ann_file=os.path.join(home_path, 'Pobrane/output.manifest')\n",
    "amazon_parnetdir_of_annotation = 'skladanka2'\n",
    "amazon_ref_name = amazon_parnetdir_of_annotation+'-ref'\n",
    "amazon_refmetadata_name = amazon_parnetdir_of_annotation+'-ref-metadata'"
   ]
  },
  {
   "cell_type": "code",
   "execution_count": 2,
   "metadata": {},
   "outputs": [],
   "source": [
    "def get_binary_mask(img, color):\n",
    "    lower_color = np.array(color)-3\n",
    "    upper_color = np.array(color)\n",
    "    binary_mask = cv2.inRange(img, lower_color, upper_color)\n",
    "    return binary_mask"
   ]
  },
  {
   "cell_type": "code",
   "execution_count": 3,
   "metadata": {},
   "outputs": [],
   "source": [
    "def get_img(s3_path):\n",
    "    splitted = s3_path.split('/')\n",
    "    img_local_path = '/'.join(splitted[2:])\n",
    "    img_local_path = img_local_path.replace(':', '_')\n",
    "    img_full_path = os.path.join(home_path, img_local_path)\n",
    "    img = cv2.imread(img_full_path)\n",
    "    with open(\"a.txt\", 'w') as f:\n",
    "        f.write(img_full_path)\n",
    "    return img"
   ]
  },
  {
   "cell_type": "code",
   "execution_count": 4,
   "metadata": {},
   "outputs": [],
   "source": [
    "def normalize_id(id):\n",
    "    return int(id)\n",
    "def get_cls_annots(cats_ids):\n",
    "    cls = []\n",
    "    cls.append({\"supercategory\": \"weapon\",\"name\": \"rifle\", \"id\": normalize_id(cats_ids['rifle'])})\n",
    "    cls.append({\"supercategory\": \"weapon\",\"name\": \"pistol\", \"id\": normalize_id(cats_ids['pistol'])})\n",
    "    cls.append({\"supercategory\": \"weapon\",\"name\": \"knife\", \"id\": normalize_id(cats_ids['knife'])})\n",
    "    cls.append({\"supercategory\": \"person\",\"name\": \"person\", \"id\": normalize_id(cats_ids['person'])})\n",
    "    #cls.append({\"supercategory\": \"BACKGROUND\",\"name\": \"BACKGROUND\", \"id\": normalize_id(cats_ids['BACKGROUND'])})\n",
    "    return cls \n",
    "\n",
    "def get_image_annot(im_id, ann_img, filename):\n",
    "    image_annotation = {}\n",
    "    image_annotation['id'] = im_id\n",
    "    image_annotation['width'] = ann_img.shape[1]\n",
    "    image_annotation['height'] = ann_img.shape[0]\n",
    "    image_annotation['license'] = 0\n",
    "    image_annotation[\"file_name\"] = filename\n",
    "    return image_annotation\n",
    "\n",
    "def get_annot(segmentation, cat_id, im_id, ann_id):\n",
    "    annotations = []\n",
    "    segmentations = []\n",
    "    for i, segment in enumerate(segmentation):\n",
    "        segment = [int(s) for s in segment]\n",
    "        segmentations.append(segment)\n",
    "    annotation = {}\n",
    "    x, y, width, height = get_bnd_box(segment)\n",
    "    annotation['segmentation'] = segmentations\n",
    "    annotation['area'] = width*height\n",
    "    annotation['is_crowd'] = 0\n",
    "    annotation['image_id'] = im_id\n",
    "    annotation['bbox'] = [x,y, width, height]\n",
    "    annotation['category_id'] = cat_id\n",
    "    annotation['id'] = ann_id\n",
    "    return annotation"
   ]
  },
  {
   "cell_type": "code",
   "execution_count": 5,
   "metadata": {},
   "outputs": [],
   "source": [
    "def get_min(actual, prev_min):\n",
    "    return actual if actual < prev_min else prev_min\n",
    "\n",
    "def get_max(actual, prev_max):\n",
    "    return actual if actual > prev_max else prev_max\n",
    "\n",
    "def get_bnd_box(segment):\n",
    "    min_x, min_y, max_x, max_y = 10000,10000,0,0\n",
    "    for i in range(0, len(segment),2):\n",
    "        x, y = segment[i:i+2]\n",
    "        min_x, min_y = get_min(x, min_x), get_min(y, min_y)\n",
    "        max_x, max_y = get_max(x, max_x), get_max(y, max_y)\n",
    "    \n",
    "    width, height = max_x - min_x, max_y - min_y\n",
    "    return min_x, min_y, width, height"
   ]
  },
  {
   "cell_type": "code",
   "execution_count": 6,
   "metadata": {},
   "outputs": [],
   "source": [
    "def get_cls_ids(in_dict):\n",
    "    cls_ids = {}\n",
    "    if amazon_refmetadata_name not in in_dict:\n",
    "        return None\n",
    "    in_dict_roi = in_dict[amazon_refmetadata_name][\"internal-color-map\"]\n",
    "    for key in in_dict_roi.keys():\n",
    "        cls_ids[in_dict_roi[key][\"class-name\"]] = key\n",
    "    \n",
    "    return cls_ids"
   ]
  },
  {
   "cell_type": "code",
   "execution_count": 7,
   "metadata": {},
   "outputs": [],
   "source": [
    "def color_info_to_rgb(color_info):\n",
    "    int_color_info = int(color_info, 16) \n",
    "    r =  (int_color_info & 0xff0000) >> 16\n",
    "    g = (int_color_info & 0xff00) >> 8\n",
    "    b = int_color_info & 0xff\n",
    "    return r,g,b"
   ]
  },
  {
   "cell_type": "code",
   "execution_count": 8,
   "metadata": {},
   "outputs": [],
   "source": [
    "def get_s3_src_img_path_tail(json_data):\n",
    "    return os.path.split(json_data['source-ref'])[1]"
   ]
  },
  {
   "cell_type": "code",
   "execution_count": 9,
   "metadata": {},
   "outputs": [],
   "source": [
    "def get_ann_img(json_data):\n",
    "    s3_ann_img_path = json_data[amazon_ref_name]\n",
    "    return get_img(s3_ann_img_path)"
   ]
  },
  {
   "cell_type": "code",
   "execution_count": 10,
   "metadata": {},
   "outputs": [],
   "source": [
    "def get_annotation_about_img(json_data, im_id, ann_id):\n",
    "    anns = []\n",
    "    if amazon_ref_name not in json_data:\n",
    "        return anns, ann_id\n",
    "    s3_src_img_path_tail = get_s3_src_img_path_tail(json_data)\n",
    "    for key in json_data[amazon_refmetadata_name]['internal-color-map']:\n",
    "        if key == \"0\":\n",
    "            continue\n",
    "        ann_id+=1\n",
    "        info = json_data[amazon_refmetadata_name]['internal-color-map'][key]\n",
    "        r,g,b = color_info_to_rgb(info['hex-color'][1:])\n",
    "        ann_img = get_ann_img(json_data)\n",
    "        mask = get_binary_mask(ann_img, [b, g, r])\n",
    "        annotation_info = pycococreatortools.create_annotation_info(\n",
    "                1, 1, {'is_crowd':0, \"id\":ann_id},  mask,\n",
    "                ann_img.shape[:2][::-1], tolerance=2)\n",
    "        if annotation_info:\n",
    "            anns.append(get_annot(annotation_info['segmentation'],cat_id=int(key), im_id=im_id, ann_id=ann_id))\n",
    "    return anns, ann_id"
   ]
  },
  {
   "cell_type": "code",
   "execution_count": 11,
   "metadata": {},
   "outputs": [
    {
     "name": "stderr",
     "output_type": "stream",
     "text": [
      "/home/m/anaconda3/lib/python3.8/site-packages/pycococreatortools/pycococreatortools.py:48: VisibleDeprecationWarning: Creating an ndarray from ragged nested sequences (which is a list-or-tuple of lists-or-tuples-or ndarrays with different lengths or shapes) is deprecated. If you meant to do this, you must specify 'dtype=object' when creating the ndarray\n",
      "  contours = np.subtract(contours, 1)\n"
     ]
    },
    {
     "name": "stdout",
     "output_type": "stream",
     "text": [
      "[{'supercategory': 'weapon', 'name': 'rifle', 'id': 3}, {'supercategory': 'weapon', 'name': 'pistol', 'id': 2}, {'supercategory': 'weapon', 'name': 'knife', 'id': 4}, {'supercategory': 'person', 'name': 'person', 'id': 1}]\n"
     ]
    }
   ],
   "source": [
    "annotations = []\n",
    "images = []\n",
    "im_id = ann_id = 0\n",
    "cls_ids = {}\n",
    "with open(json_ann_file, 'r') as f:\n",
    "    for line in f.readlines() :\n",
    "        json_data = json.loads(line)\n",
    "        cls_ids = get_cls_ids(json_data)\n",
    "        im_id += 1\n",
    "        anns, ann_id = get_annotation_about_img(json_data, im_id, ann_id+1)\n",
    "        for ann in anns:\n",
    "            annotations.append(ann)\n",
    "        if anns:\n",
    "            imgs_anns = get_image_annot(im_id=im_id, ann_img=get_ann_img(json_data), filename=get_s3_src_img_path_tail(json_data))  \n",
    "            images.append(imgs_anns)\n",
    "categories  = get_cls_annots(cls_ids)\n",
    "print(categories)"
   ]
  },
  {
   "cell_type": "code",
   "execution_count": 12,
   "metadata": {},
   "outputs": [],
   "source": [
    "end_json = {}\n",
    "end_json['type'] = \"instances\"\n",
    "end_json['images'] = images\n",
    "end_json['categories'] = categories\n",
    "end_json[\"annotations\"] = annotations"
   ]
  },
  {
   "cell_type": "code",
   "execution_count": 13,
   "metadata": {},
   "outputs": [],
   "source": [
    "annotation_file='/home/m/Pobrane/test.json'\n",
    "os.makedirs(os.path.split(annotation_file)[0], exist_ok=True)\n",
    "with open(annotation_file, 'w') as f:\n",
    "    json.dump(end_json, f)"
   ]
  }
 ],
 "metadata": {
  "kernelspec": {
   "display_name": "Python 3",
   "language": "python",
   "name": "python3"
  },
  "language_info": {
   "codemirror_mode": {
    "name": "ipython",
    "version": 3
   },
   "file_extension": ".py",
   "mimetype": "text/x-python",
   "name": "python",
   "nbconvert_exporter": "python",
   "pygments_lexer": "ipython3",
   "version": "3.8.3"
  }
 },
 "nbformat": 4,
 "nbformat_minor": 4
}
