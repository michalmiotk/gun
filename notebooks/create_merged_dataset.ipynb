{
 "cells": [
  {
   "cell_type": "code",
   "execution_count": 1,
   "metadata": {},
   "outputs": [],
   "source": [
    "%matplotlib inline\n",
    "from pycocotools.coco import COCO\n",
    "import numpy as np\n",
    "import skimage.io as io\n",
    "import matplotlib.pyplot as plt\n",
    "import pylab\n",
    "pylab.rcParams['figure.figsize'] = (8.0, 10.0)"
   ]
  },
  {
   "cell_type": "code",
   "execution_count": 2,
   "metadata": {},
   "outputs": [],
   "source": [
    "glockannFile='/home/m/glock/annotations_glock/trainval.json'\n",
    "cocoannFile='/home/m/glock/annotations_coco/train2017.json'"
   ]
  },
  {
   "cell_type": "code",
   "execution_count": 3,
   "metadata": {},
   "outputs": [
    {
     "name": "stdout",
     "output_type": "stream",
     "text": [
      "loading annotations into memory...\n",
      "Done (t=0.05s)\n",
      "creating index...\n",
      "index created!\n",
      "loading annotations into memory...\n",
      "Done (t=12.27s)\n",
      "creating index...\n",
      "index created!\n"
     ]
    }
   ],
   "source": [
    "def _isArrayLike(obj):\n",
    "    return hasattr(obj, '__iter__') and hasattr(obj, '__len__')\n",
    "class CustomCOCO(COCO):\n",
    "    def __init__(self, annotation_file=None):\n",
    "        super().__init__(annotation_file)\n",
    "        \n",
    "    def getallImgIds(self, imgIds=[], catIds=[]):\n",
    "        '''\n",
    "        Get img ids that satisfy given filter conditions.\n",
    "        :param imgIds (int array) : get imgs for given ids\n",
    "        :param catIds (int array) : get imgs with all given cats\n",
    "        :return: ids (int array)  : integer array of img ids\n",
    "        '''\n",
    "        imgIds = imgIds if _isArrayLike(imgIds) else [imgIds]\n",
    "        catIds = catIds if _isArrayLike(catIds) else [catIds]\n",
    "\n",
    "        if len(imgIds) == len(catIds) == 0:\n",
    "            ids = self.imgs.keys()\n",
    "        else:\n",
    "            ids = imgIds\n",
    "            for i, catId in enumerate(catIds):\n",
    "                ids += self.catToImgs[catId]\n",
    "        return list(set(ids))\n",
    "    \n",
    "# initialize COCO api for instance annotations\n",
    "glock=CustomCOCO(glockannFile)\n",
    "coco=CustomCOCO(cocoannFile)"
   ]
  },
  {
   "cell_type": "code",
   "execution_count": 4,
   "metadata": {
    "scrolled": true
   },
   "outputs": [
    {
     "name": "stdout",
     "output_type": "stream",
     "text": [
      "COCO categories: \n",
      "person bicycle car motorcycle airplane bus train truck boat traffic light fire hydrant stop sign parking meter bench bird cat dog horse sheep cow elephant bear zebra giraffe backpack umbrella handbag tie suitcase frisbee skis snowboard sports ball kite baseball bat baseball glove skateboard surfboard tennis racket bottle wine glass cup fork knife spoon bowl banana apple sandwich orange broccoli carrot hot dog pizza donut cake chair couch potted plant bed dining table toilet tv laptop mouse remote keyboard cell phone microwave oven toaster sink refrigerator book clock vase scissors teddy bear hair drier toothbrush\n",
      "\n",
      "COCO supercategories: \n",
      "appliance furniture animal sports food kitchen indoor accessory vehicle electronic outdoor person\n"
     ]
    }
   ],
   "source": [
    "# display COCO categories and supercategories\n",
    "cats = coco.loadCats(coco.getCatIds())\n",
    "nms=[cat['name'] for cat in cats]\n",
    "print('COCO categories: \\n{}\\n'.format(' '.join(nms)))\n",
    "\n",
    "nms = set([cat['supercategory'] for cat in cats])\n",
    "print('COCO supercategories: \\n{}'.format(' '.join(nms)))"
   ]
  },
  {
   "cell_type": "code",
   "execution_count": 5,
   "metadata": {},
   "outputs": [
    {
     "name": "stdout",
     "output_type": "stream",
     "text": [
      "[49]\n",
      "[1, 49]\n",
      "[{'supercategory': 'person', 'id': 1, 'name': 'person'}, {'supercategory': 'kitchen', 'id': 49, 'name': 'knife'}]\n"
     ]
    }
   ],
   "source": [
    "# get all images containing given categories, select one at random\n",
    "print(coco.getCatIds(catNms=['knife']))\n",
    "\n",
    "coco_catIds = coco.getCatIds(catNms=['person', 'knife']);\n",
    "print(coco_catIds)\n",
    "coco_cats = coco.loadCats(coco_catIds);\n",
    "print(coco_cats)"
   ]
  },
  {
   "cell_type": "code",
   "execution_count": 6,
   "metadata": {},
   "outputs": [],
   "source": [
    "glock_catIds = glock.getCatIds();\n",
    "glock_cats = glock.loadCats(glock_catIds);"
   ]
  },
  {
   "cell_type": "code",
   "execution_count": 7,
   "metadata": {},
   "outputs": [
    {
     "name": "stdout",
     "output_type": "stream",
     "text": [
      "270235\n"
     ]
    }
   ],
   "source": [
    "coco_annIds = coco.getAnnIds(catIds=coco_catIds)\n",
    "print(len(coco_annIds))\n",
    "coco_anns = coco.loadAnns(coco_annIds)"
   ]
  },
  {
   "cell_type": "code",
   "execution_count": 8,
   "metadata": {},
   "outputs": [],
   "source": [
    "glock_annIds = glock.getAnnIds(catIds=glock_catIds)\n",
    "glock_anns = glock.loadAnns(glock_annIds)"
   ]
  },
  {
   "cell_type": "code",
   "execution_count": 24,
   "metadata": {},
   "outputs": [
    {
     "name": "stdout",
     "output_type": "stream",
     "text": [
      "66081\n",
      "66081\n",
      "[{'license': 2, 'file_name': '000000262145.jpg', 'coco_url': 'http://images.cocodataset.org/train2017/000000262145.jpg', 'height': 427, 'width': 640, 'date_captured': '2013-11-20 02:07:55', 'flickr_url': 'http://farm8.staticflickr.com/7187/6967031859_5f08387bde_z.jpg', 'id': 262145}, {'license': 1, 'file_name': '000000262146.jpg', 'coco_url': 'http://images.cocodataset.org/train2017/000000262146.jpg', 'height': 640, 'width': 480, 'date_captured': '2013-11-19 23:07:16', 'flickr_url': 'http://farm6.staticflickr.com/5090/5341741494_1f653cdb80_z.jpg', 'id': 262146}, {'license': 3, 'file_name': '000000524291.jpg', 'coco_url': 'http://images.cocodataset.org/train2017/000000524291.jpg', 'height': 426, 'width': 640, 'date_captured': '2013-11-18 09:59:07', 'flickr_url': 'http://farm2.staticflickr.com/1045/934293170_d1b2cc58ff_z.jpg', 'id': 524291}, {'license': 1, 'file_name': '000000262148.jpg', 'coco_url': 'http://images.cocodataset.org/train2017/000000262148.jpg', 'height': 512, 'width': 640, 'date_captured': '2013-11-20 05:50:03', 'flickr_url': 'http://farm5.staticflickr.com/4028/4549977479_547e6b22ae_z.jpg', 'id': 262148}, {'license': 3, 'file_name': '000000393223.jpg', 'coco_url': 'http://images.cocodataset.org/train2017/000000393223.jpg', 'height': 480, 'width': 640, 'date_captured': '2013-11-21 20:08:57', 'flickr_url': 'http://farm1.staticflickr.com/28/45521803_c5cb1184cd_z.jpg', 'id': 393223}, {'license': 2, 'file_name': '000000393224.jpg', 'coco_url': 'http://images.cocodataset.org/train2017/000000393224.jpg', 'height': 640, 'width': 427, 'date_captured': '2013-11-18 02:29:39', 'flickr_url': 'http://farm9.staticflickr.com/8503/8356977703_647d20f05c_z.jpg', 'id': 393224}, {'license': 7, 'file_name': '000000524297.jpg', 'coco_url': 'http://images.cocodataset.org/train2017/000000524297.jpg', 'height': 446, 'width': 640, 'date_captured': '2013-11-18 11:56:12', 'flickr_url': 'http://farm4.staticflickr.com/3007/2552566879_0822a21ede_z.jpg', 'id': 524297}, {'license': 4, 'file_name': '000000393227.jpg', 'coco_url': 'http://images.cocodataset.org/train2017/000000393227.jpg', 'height': 640, 'width': 427, 'date_captured': '2013-11-20 07:38:16', 'flickr_url': 'http://farm4.staticflickr.com/3636/3692164714_6f181cbaf2_z.jpg', 'id': 393227}, {'license': 1, 'file_name': '000000131084.jpg', 'coco_url': 'http://images.cocodataset.org/train2017/000000131084.jpg', 'height': 426, 'width': 640, 'date_captured': '2013-11-15 21:01:40', 'flickr_url': 'http://farm8.staticflickr.com/7055/6806786818_1dd81608bd_z.jpg', 'id': 131084}, {'license': 6, 'file_name': '000000393230.jpg', 'coco_url': 'http://images.cocodataset.org/train2017/000000393230.jpg', 'height': 480, 'width': 640, 'date_captured': '2013-11-19 18:35:40', 'flickr_url': 'http://farm5.staticflickr.com/4144/4960980434_148110f00d_z.jpg', 'id': 393230}, {'license': 4, 'file_name': '000000262161.jpg', 'coco_url': 'http://images.cocodataset.org/train2017/000000262161.jpg', 'height': 428, 'width': 640, 'date_captured': '2013-11-15 20:08:14', 'flickr_url': 'http://farm8.staticflickr.com/7242/7385720814_d3462055a7_z.jpg', 'id': 262161}, {'license': 1, 'file_name': '000000131089.jpg', 'coco_url': 'http://images.cocodataset.org/train2017/000000131089.jpg', 'height': 427, 'width': 640, 'date_captured': '2013-11-22 22:23:05', 'flickr_url': 'http://farm5.staticflickr.com/4117/4866736626_297f0b22b9_z.jpg', 'id': 131089}, {'license': 2, 'file_name': '000000524311.jpg', 'coco_url': 'http://images.cocodataset.org/train2017/000000524311.jpg', 'height': 480, 'width': 640, 'date_captured': '2013-11-22 00:16:30', 'flickr_url': 'http://farm1.staticflickr.com/133/323068202_a112b338b3_z.jpg', 'id': 524311}, {'license': 1, 'file_name': '000000393241.jpg', 'coco_url': 'http://images.cocodataset.org/train2017/000000393241.jpg', 'height': 426, 'width': 640, 'date_captured': '2013-11-18 17:01:30', 'flickr_url': 'http://farm4.staticflickr.com/3122/2677514420_037dc10b48_z.jpg', 'id': 393241}, {'license': 1, 'file_name': '000000524314.jpg', 'coco_url': 'http://images.cocodataset.org/train2017/000000524314.jpg', 'height': 428, 'width': 640, 'date_captured': '2013-11-24 21:29:33', 'flickr_url': 'http://farm3.staticflickr.com/2370/2320994673_eaff4665f9_z.jpg', 'id': 524314}, {'license': 1, 'file_name': '000000393243.jpg', 'coco_url': 'http://images.cocodataset.org/train2017/000000393243.jpg', 'height': 640, 'width': 480, 'date_captured': '2013-11-20 13:20:35', 'flickr_url': 'http://farm3.staticflickr.com/2294/1562760533_6893778f46_z.jpg', 'id': 393243}, {'license': 4, 'file_name': '000000262171.jpg', 'coco_url': 'http://images.cocodataset.org/train2017/000000262171.jpg', 'height': 480, 'width': 640, 'date_captured': '2013-11-21 01:28:22', 'flickr_url': 'http://farm5.staticflickr.com/4098/4786812742_b416e94f1e_z.jpg', 'id': 262171}, {'license': 4, 'file_name': '000000131101.jpg', 'coco_url': 'http://images.cocodataset.org/train2017/000000131101.jpg', 'height': 640, 'width': 478, 'date_captured': '2013-11-18 10:59:38', 'flickr_url': 'http://farm6.staticflickr.com/5309/5820324431_4f6a9c6561_z.jpg', 'id': 131101}, {'license': 2, 'file_name': '000000524317.jpg', 'coco_url': 'http://images.cocodataset.org/train2017/000000524317.jpg', 'height': 500, 'width': 352, 'date_captured': '2013-11-17 05:27:42', 'flickr_url': 'http://farm1.staticflickr.com/25/88767967_85599bb828_z.jpg', 'id': 524317}, {'license': 3, 'file_name': '000000262175.jpg', 'coco_url': 'http://images.cocodataset.org/train2017/000000262175.jpg', 'height': 640, 'width': 513, 'date_captured': '2013-11-17 03:06:07', 'flickr_url': 'http://farm3.staticflickr.com/2759/4326684448_69394b7fc6_z.jpg', 'id': 262175}, {'license': 3, 'file_name': '000000524320.jpg', 'coco_url': 'http://images.cocodataset.org/train2017/000000524320.jpg', 'height': 640, 'width': 480, 'date_captured': '2013-11-14 17:12:57', 'flickr_url': 'http://farm5.staticflickr.com/4112/5004009687_ede04560d4_z.jpg', 'id': 524320}, {'license': 6, 'file_name': '000000393251.jpg', 'coco_url': 'http://images.cocodataset.org/train2017/000000393251.jpg', 'height': 640, 'width': 480, 'date_captured': '2013-11-20 21:18:14', 'flickr_url': 'http://farm9.staticflickr.com/8531/8493863691_c41814406f_z.jpg', 'id': 393251}]\n"
     ]
    }
   ],
   "source": [
    "coco_imgIds = coco.getallImgIds(catIds=coco_catIds)\n",
    "print(len(coco_imgIds))\n",
    "coco_imgs = coco.loadImgs(coco_imgIds)\n",
    "print(len(coco_imgs))"
   ]
  },
  {
   "cell_type": "code",
   "execution_count": 10,
   "metadata": {},
   "outputs": [],
   "source": [
    "glock_imgIds = glock.getImgIds()\n",
    "glock_imgs = glock.loadImgs(glock_imgIds)"
   ]
  },
  {
   "cell_type": "code",
   "execution_count": 11,
   "metadata": {},
   "outputs": [],
   "source": [
    "out_json=dict()"
   ]
  },
  {
   "cell_type": "code",
   "execution_count": 12,
   "metadata": {},
   "outputs": [],
   "source": [
    "out_json['categories'] = coco_cats + glock_cats"
   ]
  },
  {
   "cell_type": "code",
   "execution_count": 13,
   "metadata": {},
   "outputs": [],
   "source": [
    "out_json['images'] = coco_imgs+glock_imgs"
   ]
  },
  {
   "cell_type": "code",
   "execution_count": 14,
   "metadata": {},
   "outputs": [],
   "source": [
    "out_json['annotations'] = coco_anns+glock_anns"
   ]
  },
  {
   "cell_type": "code",
   "execution_count": 15,
   "metadata": {},
   "outputs": [
    {
     "name": "stdout",
     "output_type": "stream",
     "text": [
      "[{'supercategory': 'person', 'id': 1, 'name': 'person'}, {'supercategory': 'kitchen', 'id': 49, 'name': 'knife'}, {'supercategory': 'gun', 'name': 'glock', 'id': 2}]\n"
     ]
    }
   ],
   "source": [
    "print(out_json['categories'])"
   ]
  },
  {
   "cell_type": "code",
   "execution_count": 16,
   "metadata": {},
   "outputs": [],
   "source": [
    "import json\n",
    "with open('/home/m/glock/glock_person_anns/train.json', 'w') as fp:\n",
    "    json.dump(out_json, fp)"
   ]
  },
  {
   "cell_type": "code",
   "execution_count": 25,
   "metadata": {},
   "outputs": [],
   "source": [
    "coco_image_ids = coco.getallImgIds(catIds=coco_catIds)\n",
    "coco_image_data = coco.loadImgs(coco_image_ids)"
   ]
  },
  {
   "cell_type": "code",
   "execution_count": 26,
   "metadata": {},
   "outputs": [
    {
     "name": "stdout",
     "output_type": "stream",
     "text": [
      "{'license': 2, 'file_name': '000000262145.jpg', 'coco_url': 'http://images.cocodataset.org/train2017/000000262145.jpg', 'height': 427, 'width': 640, 'date_captured': '2013-11-20 02:07:55', 'flickr_url': 'http://farm8.staticflickr.com/7187/6967031859_5f08387bde_z.jpg', 'id': 262145}\n"
     ]
    }
   ],
   "source": [
    "print(coco_image_data[0])"
   ]
  },
  {
   "cell_type": "code",
   "execution_count": 27,
   "metadata": {},
   "outputs": [],
   "source": [
    "import shutil\n",
    "import tqdm\n",
    "import os\n",
    "\n",
    "coco_imgs_dir='/home/m/glock/images_coco/train2017'\n",
    "output_imgs_dir='/home/m/glock/glock_person_imgs'\n",
    "if os.path.exists(output_imgs_dir):\n",
    "    shutil.rmtree(output_imgs_dir)"
   ]
  },
  {
   "cell_type": "code",
   "execution_count": 28,
   "metadata": {},
   "outputs": [],
   "source": [
    "def copy_files(image_data, input_imgs_dir, output_imgs_dir):\n",
    "    for data in tqdm.tqdm(image_data):\n",
    "        image_name=data['file_name']\n",
    "        output_path=os.path.join(output_imgs_dir, image_name)\n",
    "        os.makedirs(os.path.dirname(output_path), exist_ok=True)\n",
    "        shutil.copy(os.path.join(input_imgs_dir, image_name), output_path)"
   ]
  },
  {
   "cell_type": "code",
   "execution_count": 29,
   "metadata": {},
   "outputs": [
    {
     "name": "stderr",
     "output_type": "stream",
     "text": [
      "100%|██████████| 66081/66081 [00:22<00:00, 2983.41it/s]\n"
     ]
    }
   ],
   "source": [
    "copy_files(coco_image_data, coco_imgs_dir, output_imgs_dir)"
   ]
  },
  {
   "cell_type": "code",
   "execution_count": 30,
   "metadata": {},
   "outputs": [],
   "source": [
    "glock_dir='/home/m/train_glock_unity/'"
   ]
  },
  {
   "cell_type": "code",
   "execution_count": 31,
   "metadata": {},
   "outputs": [
    {
     "name": "stderr",
     "output_type": "stream",
     "text": [
      "100%|██████████| 3889/3889 [00:01<00:00, 3183.06it/s]\n"
     ]
    }
   ],
   "source": [
    "copy_files(glock_imgs, glock_dir, output_imgs_dir)"
   ]
  },
  {
   "cell_type": "code",
   "execution_count": null,
   "metadata": {},
   "outputs": [],
   "source": []
  }
 ],
 "metadata": {
  "kernelspec": {
   "display_name": "Python 3",
   "language": "python",
   "name": "python3"
  },
  "language_info": {
   "codemirror_mode": {
    "name": "ipython",
    "version": 3
   },
   "file_extension": ".py",
   "mimetype": "text/x-python",
   "name": "python",
   "nbconvert_exporter": "python",
   "pygments_lexer": "ipython3",
   "version": "3.8.5"
  }
 },
 "nbformat": 4,
 "nbformat_minor": 1
}
