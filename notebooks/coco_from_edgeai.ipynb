{
 "cells": [
  {
   "cell_type": "code",
   "execution_count": 1,
   "metadata": {},
   "outputs": [],
   "source": [
    "import numpy as np\n",
    "from pycococreatortools import pycococreatortools\n",
    "import os\n",
    "import glob\n",
    "import cv2\n",
    "from tqdm import tqdm\n",
    "import json\n",
    "from PIL import Image\n"
   ]
  },
  {
   "cell_type": "code",
   "execution_count": 2,
   "metadata": {},
   "outputs": [],
   "source": [
    "home_path=os.path.expanduser('~')\n",
    "dir0_with_images_and_ann = os.path.join(home_path, 'Pobrane/images/More-weapons-1')"
   ]
  },
  {
   "cell_type": "code",
   "execution_count": 3,
   "metadata": {},
   "outputs": [],
   "source": [
    "def get_segmentation(in_dict):\n",
    "    segmentation = []\n",
    "    if not len(in_dict['contours']):\n",
    "        return segmentation\n",
    "    in_dict['contours'] = sorted(in_dict['contours'], key=len, reverse=True)\n",
    "    for contour_pack in [in_dict['contours'][0]]:\n",
    "        for contour in contour_pack:\n",
    "            segmentation.append(contour['x'])\n",
    "            segmentation.append(contour['y'])\n",
    "\n",
    "    \n",
    "    return [segmentation]\n",
    "\n",
    "def get_bbox(in_dict):\n",
    "    left = in_dict['bbox']['left']\n",
    "    top = in_dict['bbox']['top']\n",
    "    right = in_dict['bbox']['right']\n",
    "    bottom = in_dict['bbox']['bottom']\n",
    "    width = right-left\n",
    "    height = bottom-top\n",
    "    return [left, top, width, height]"
   ]
  },
  {
   "cell_type": "code",
   "execution_count": 4,
   "metadata": {},
   "outputs": [
    {
     "name": "stderr",
     "output_type": "stream",
     "text": [
      "  0%|          | 1/76389 [00:01<23:40:30,  1.12s/it]"
     ]
    },
    {
     "name": "stdout",
     "output_type": "stream",
     "text": [
      "book\n",
      "laptop\n",
      "cell phone\n",
      "table\n",
      "mouse\n",
      "magazine\n"
     ]
    },
    {
     "name": "stderr",
     "output_type": "stream",
     "text": [
      "  0%|          | 4/76389 [00:04<23:44:36,  1.12s/it]"
     ]
    },
    {
     "name": "stdout",
     "output_type": "stream",
     "text": [
      "candles\n"
     ]
    },
    {
     "name": "stderr",
     "output_type": "stream",
     "text": [
      "\r",
      "  0%|          | 5/76389 [00:05<23:39:00,  1.11s/it]"
     ]
    },
    {
     "name": "stdout",
     "output_type": "stream",
     "text": [
      "toothbrush\n",
      "vase\n",
      "champion\n",
      "glass\n"
     ]
    },
    {
     "name": "stderr",
     "output_type": "stream",
     "text": [
      "\r",
      "  0%|          | 6/76389 [00:06<23:42:24,  1.12s/it]"
     ]
    },
    {
     "name": "stdout",
     "output_type": "stream",
     "text": [
      "carpet\n",
      "plant\n"
     ]
    },
    {
     "name": "stderr",
     "output_type": "stream",
     "text": [
      "  0%|          | 9/76389 [00:09<23:20:16,  1.10s/it]"
     ]
    },
    {
     "name": "stdout",
     "output_type": "stream",
     "text": [
      "KitchenFurniture\n",
      "WineBottle\n",
      "Bread\n",
      "PictureFrame\n"
     ]
    },
    {
     "name": "stderr",
     "output_type": "stream",
     "text": [
      "  0%|          | 12/76389 [00:13<22:54:18,  1.08s/it]"
     ]
    },
    {
     "name": "stdout",
     "output_type": "stream",
     "text": [
      "tv stand\n"
     ]
    },
    {
     "name": "stderr",
     "output_type": "stream",
     "text": [
      "  0%|          | 28/76389 [00:30<23:17:14,  1.10s/it]"
     ]
    },
    {
     "name": "stdout",
     "output_type": "stream",
     "text": [
      "sedan\n",
      "crane truck\n",
      "jeep\n",
      "bus\n"
     ]
    },
    {
     "name": "stderr",
     "output_type": "stream",
     "text": [
      "  0%|          | 32/76389 [00:34<22:59:51,  1.08s/it]"
     ]
    },
    {
     "name": "stdout",
     "output_type": "stream",
     "text": [
      "Rear window\n",
      "van\n",
      "prime mover\n",
      "Tail light\n",
      "Door window\n",
      "Car\n",
      "cabriolet\n"
     ]
    },
    {
     "name": "stderr",
     "output_type": "stream",
     "text": [
      "  0%|          | 45/76389 [00:48<22:55:42,  1.08s/it]\n"
     ]
    }
   ],
   "source": [
    "w_id = 1\n",
    "cats_ids = {\"person\":2,\"weapon\":w_id, 'People with weapons':2, 'Glock_17':w_id ,\n",
    "            '45_ACP_Smith_And_Wesson ' :w_id, 'mp5k' : w_id, 'LeftHandedWeapons':w_id,\n",
    "            'M39_EMR':w_id, 'M1911A':w_id, 'AKM':w_id, 'AK47': w_id, 'Colt_M4A1 ': w_id,\n",
    "           'Colt_1851': w_id, 'Colt_Python':w_id, 'Remington_R1': w_id, 'AK_74': w_id, 'Beretta_R93': w_id,\n",
    "            'thompson':w_id, 'Browning_HP':w_id, 'SS2_AssaultRifle':w_id, 'Scar_L': w_id, 'Dan_Wesson_715':w_id,\n",
    "           'AR':w_id,'Heckler_Koch_UMP-45' : w_id, 'Remington_700_CDL': w_id, 'VKS_Vyhlop':w_id, 'AB-10_LP':w_id,\n",
    "            'Enfield':w_id, 'skorpion':w_id, 'mac11':w_id}\n",
    "image_id = 0\n",
    "ann_id = 0\n",
    "coco_output = {'images': [], \"annotations\": [], 'type': \"instances\"}\n",
    "coco_output['categories'] = [{\"supercategory\": \"person\",\"id\": cats_ids['person'],\"name\": \"person\"},\n",
    "    {\"supercategory\": \"weapon\",\"id\": cats_ids['weapon'],\"name\": \"weapon\"}]\n",
    "tags = set()\n",
    "for src_dir in [dir0_with_images_and_ann]:\n",
    "    \n",
    "    images_pathes = glob.glob(src_dir+'/*.png')\n",
    "    for image_path in tqdm(images_pathes):\n",
    "        image_id += 1\n",
    "        image = Image.open(image_path)\n",
    "        parent_dir, image_name  = image_path.split('/')[-2:]\n",
    "        image_filename_with_parentdir = os.path.join(parent_dir, image_name)\n",
    "        image_info = pycococreatortools.create_image_info(\n",
    "        image_id, image_filename_with_parentdir, image.size)\n",
    "        \n",
    "        cutted_image_path = '_'.join(image_path.split('_')[:-1])\n",
    "        annotation_list = glob.glob(cutted_image_path+'_*.json')\n",
    "        prev_ann_id = ann_id\n",
    "        for annot_path in annotation_list:\n",
    "            with open(annot_path, 'r') as f:\n",
    "                desc = json.load(f)\n",
    "                if desc['tagName'] not in tags and desc['tagName'] not in cats_ids:\n",
    "                    print(desc['tagName'])\n",
    "                    tags.add(desc['tagName'])\n",
    "                \n",
    "                if desc['tagName'] not in cats_ids:\n",
    "                    continue\n",
    "                \n",
    "                annotation_info = {}\n",
    "                annotation_info['segmentation'] = get_segmentation(desc)\n",
    "                if not len(annotation_info['segmentation']):\n",
    "                    continue\n",
    "                ann_id += 1\n",
    "                annotation_info['area'] = desc['area']\n",
    "                annotation_info['iscrowd'] = 0\n",
    "                annotation_info['image_id'] = image_id\n",
    "                annotation_info['bbox'] = get_bbox(desc)\n",
    "                annotation_info['category_id'] = cats_ids[desc['tagName']]\n",
    "                annotation_info['id'] =  ann_id\n",
    "                coco_output['annotations'].append(annotation_info)\n",
    "        if prev_ann_id != ann_id:\n",
    "            coco_output[\"images\"].append(image_info)"
   ]
  },
  {
   "cell_type": "code",
   "execution_count": 5,
   "metadata": {},
   "outputs": [],
   "source": [
    "annotation_file='/home/m/Pobrane/trainval.json'\n",
    "os.makedirs(os.path.split(annotation_file)[0], exist_ok=True)\n",
    "with open(annotation_file, 'w') as f:\n",
    "    json.dump(coco_output, f)"
   ]
  },
  {
   "cell_type": "code",
   "execution_count": null,
   "metadata": {},
   "outputs": [],
   "source": []
  },
  {
   "cell_type": "code",
   "execution_count": null,
   "metadata": {},
   "outputs": [],
   "source": []
  }
 ],
 "metadata": {
  "kernelspec": {
   "display_name": "Python 3",
   "language": "python",
   "name": "python3"
  },
  "language_info": {
   "codemirror_mode": {
    "name": "ipython",
    "version": 3
   },
   "file_extension": ".py",
   "mimetype": "text/x-python",
   "name": "python",
   "nbconvert_exporter": "python",
   "pygments_lexer": "ipython3",
   "version": "3.8.5"
  }
 },
 "nbformat": 4,
 "nbformat_minor": 4
}
